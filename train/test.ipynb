{
 "cells": [
  {
   "cell_type": "code",
   "execution_count": 24,
   "metadata": {},
   "outputs": [
    {
     "name": "stdout",
     "output_type": "stream",
     "text": [
      "发现缓存文件，从缓存加载数据: /home/zbtrs/.cache/huggingface/datasets/translation_cache/36c0520d49b61ecf2f4451ff8b056f28.cache\n"
     ]
    }
   ],
   "source": [
    "from dataset import TranslationDataset\n",
    "from tqdm import tqdm\n",
    "\n",
    "dataset = TranslationDataset(data_type=\"x\", double=False, target_lang=\"马来语\")\n",
    "\n",
    "data = dataset.load_data(\"/home/zbtrs/lz/trans/trans/data/x/x.parquet\")"
   ]
  },
  {
   "cell_type": "code",
   "execution_count": 48,
   "metadata": {},
   "outputs": [
    {
     "data": {
      "text/plain": [
       "Dataset({\n",
       "    features: ['prompt', 'source_lang', 'source_text', 'target_lang', 'target_text'],\n",
       "    num_rows: 213949\n",
       "})"
      ]
     },
     "execution_count": 48,
     "metadata": {},
     "output_type": "execute_result"
    }
   ],
   "source": [
    "data"
   ]
  },
  {
   "cell_type": "code",
   "execution_count": 45,
   "metadata": {},
   "outputs": [
    {
     "name": "stderr",
     "output_type": "stream",
     "text": [
      "  0%|          | 0/213949 [00:00<?, ?it/s]"
     ]
    },
    {
     "name": "stderr",
     "output_type": "stream",
     "text": [
      "100%|██████████| 213949/213949 [00:09<00:00, 21590.52it/s]\n"
     ]
    },
    {
     "data": {
      "text/plain": [
       "20219"
      ]
     },
     "execution_count": 45,
     "metadata": {},
     "output_type": "execute_result"
    }
   ],
   "source": [
    "# 统计target_text里的词表，去掉符号\n",
    "word_count = {}\n",
    "for i in tqdm(data):\n",
    "    words = list(map(lambda x: x, i['target_text'].replace(\".\", \"\").replace(\",\", \"\").replace(\"!\", \"\").replace(\"?\", \"\").replace(\":\", \"\").replace(\";\", \"\").replace(\"(\", \"\").replace(\")\", \"\").replace(\"[\", \"\").replace(\"]\", \"\").replace(\"{\", \"\").replace(\"}\", \"\").replace(\"'\", \"\").replace(\"\\\"\", \"\").replace(\"`\", \"\").replace(\"~\", \"\").replace(\"|\", \"\").replace(\"\\\\\", \"\").replace(\"/\", \"\").replace(\"*\", \"\").replace(\"+\", \"\").replace(\"-\", \"\").replace(\"_\", \"\").replace(\"=\", \"\").replace(\"<\", \"\").replace(\">\", \"\").replace(\".\", \"\").split()))\n",
    "    for word in words:\n",
    "        if 'EP' in word:\n",
    "            continue\n",
    "        if word not in word_count:\n",
    "            word_count[word] = 0\n",
    "        word_count[word] += 1\n",
    "\n",
    "len(word_count.keys())"
   ]
  },
  {
   "cell_type": "code",
   "execution_count": 46,
   "metadata": {},
   "outputs": [
    {
     "data": {
      "text/plain": [
       "{'prompt': 'Translate this from Chinese to Malay:\\nChinese: 来人 拖下去\\nMalay: Mengapa pandang saya seperti ini?<eos>',\n",
       " 'source_lang': 'Chinese',\n",
       " 'source_text': '来人 拖下去',\n",
       " 'target_lang': 'Malay',\n",
       " 'target_text': 'Mengapa pandang saya seperti ini?'}"
      ]
     },
     "execution_count": 46,
     "metadata": {},
     "output_type": "execute_result"
    }
   ],
   "source": [
    "data[100]"
   ]
  },
  {
   "cell_type": "code",
   "execution_count": 29,
   "metadata": {},
   "outputs": [
    {
     "data": {
      "text/plain": [
       "256000"
      ]
     },
     "execution_count": 29,
     "metadata": {},
     "output_type": "execute_result"
    }
   ],
   "source": [
    "from transformers import AutoTokenizer\n",
    "\n",
    "tokenizer = AutoTokenizer.from_pretrained(\"/home/zbtrs/lz/trans/trans/models/GemmaX2-28-2B-v0.1\")\n",
    "\n",
    "tokenizer.vocab_size"
   ]
  }
 ],
 "metadata": {
  "kernelspec": {
   "display_name": "fi",
   "language": "python",
   "name": "python3"
  },
  "language_info": {
   "codemirror_mode": {
    "name": "ipython",
    "version": 3
   },
   "file_extension": ".py",
   "mimetype": "text/x-python",
   "name": "python",
   "nbconvert_exporter": "python",
   "pygments_lexer": "ipython3",
   "version": "3.10.16"
  }
 },
 "nbformat": 4,
 "nbformat_minor": 2
}
