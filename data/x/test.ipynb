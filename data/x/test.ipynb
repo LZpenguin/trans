{
 "cells": [
  {
   "cell_type": "code",
   "execution_count": null,
   "metadata": {},
   "outputs": [],
   "source": [
    "# 加载parquet \n",
    "from datasets import load_dataset\n",
    "\n",
    "data = load_dataset(\"parquet\", data_files=\"x.parquet\")['train']\n",
    "\n",
    "data"
   ]
  },
  {
   "cell_type": "code",
   "execution_count": null,
   "metadata": {},
   "outputs": [],
   "source": [
    "data[13]"
   ]
  },
  {
   "cell_type": "code",
   "execution_count": 51,
   "metadata": {},
   "outputs": [],
   "source": [
    "import pandas as pd\n",
    "from tqdm import tqdm\n",
    "import pysrt\n",
    "\n",
    "df = pd.read_csv('/mnt/gold/lz/trans/data/text_data/dev.csv')\n",
    "\n",
    "def extract_subtitles(srt_file, start_time, end_time):\n",
    "    # 读取 SRT 文件\n",
    "    subs = pysrt.open(srt_file)\n",
    "    \n",
    "    # 转换时间字符串为 pysrt 的时间对象\n",
    "    start = pysrt.SubRipTime.from_string(start_time)\n",
    "    end = pysrt.SubRipTime.from_string(end_time)\n",
    "    \n",
    "    # 提取指定时间区间的台词\n",
    "    extracted_subs = []\n",
    "    for sub in subs:\n",
    "        if start <= sub.start <= end or start <= sub.end <= end:\n",
    "            extracted_subs.append(sub.text)\n",
    "\n",
    "    return extracted_subs\n",
    "\n",
    "def check_idx(idx):\n",
    "    row = df.iloc[idx]\n",
    "    lang = row['语言']\n",
    "    ju = row['音频路径'].split('/')[2].split(' ')[0]\n",
    "    ji = row['音频路径'].split('/')[2].split(' ')[1]\n",
    "    ts = row['音频路径'].split('/')[3].split('.')[0].split('_')[1:]\n",
    "    ts = [':'.join(ts[:3]), ':'.join(ts[3:6])]\n",
    "    # print(ju, ji, ts)\n",
    "\n",
    "    srt_file = f'/mnt/gold/lz/trans/data/x/{ju}/{ji}/{lang}.srt'\n",
    "    subs = pysrt.open(srt_file)\n",
    "    answer = []\n",
    "    for sub in subs:\n",
    "        if sub.start >= ts[0] and sub.end <= ts[1]:\n",
    "            answer.append(sub.text)\n",
    "    answer = ' '.join(answer)\n",
    "\n",
    "    return row['文本'], answer"
   ]
  },
  {
   "cell_type": "code",
   "execution_count": 52,
   "metadata": {},
   "outputs": [
    {
     "name": "stderr",
     "output_type": "stream",
     "text": [
      "100%|██████████| 2000/2000 [00:21<00:00, 94.97it/s] "
     ]
    },
    {
     "name": "stdout",
     "output_type": "stream",
     "text": [
      "221\n"
     ]
    },
    {
     "name": "stderr",
     "output_type": "stream",
     "text": [
      "\n"
     ]
    }
   ],
   "source": [
    "notfound = []\n",
    "for idx in tqdm(range(len(df))):\n",
    "    a, b = check_idx(idx)\n",
    "    if a != b:\n",
    "        notfound.append(idx)\n",
    "\n",
    "print(len(notfound))"
   ]
  },
  {
   "cell_type": "code",
   "execution_count": 53,
   "metadata": {},
   "outputs": [
    {
     "name": "stdout",
     "output_type": "stream",
     "text": [
      "{'电视剧2 EP12': {'count': 5, 'idx': [135, 137, 141, 357, 363]}, '电视剧5 EP11': {'count': 1, 'idx': [787]}, '电视剧6 EP11': {'count': 82, 'idx': [909, 915, 923, 927, 929, 935, 937, 939, 943, 951, 953, 959, 961, 971, 975, 977, 981, 983, 991, 993, 995, 999, 1001, 1003, 1009, 1013, 1015, 1017, 1021, 1025, 1043, 1045, 1049, 1053, 1057, 1059, 1061, 1065, 1067, 1069, 1071, 1075, 1081, 1091, 1093, 1095, 1099, 1107, 1113, 1117, 1119, 1121, 1123, 1125, 1127, 1129, 1135, 1141, 1143, 1149, 1153, 1155, 1161, 1163, 1171, 1177, 1179, 1181, 1185, 1187, 1193, 1195, 1197, 1199, 1201, 1203, 1209, 1213, 1215, 1217, 1219, 1225]}, '电视剧6 EP12': {'count': 15, 'idx': [1235, 1237, 1241, 1249, 1251, 1255, 1257, 1259, 1261, 1263, 1269, 1273, 1275, 1281, 1285]}, '电视剧7 EP28': {'count': 117, 'idx': [1286, 1287, 1288, 1289, 1290, 1291, 1292, 1293, 1294, 1295, 1296, 1297, 1298, 1299, 1300, 1301, 1302, 1303, 1304, 1305, 1306, 1307, 1308, 1309, 1310, 1311, 1312, 1313, 1314, 1315, 1316, 1317, 1318, 1319, 1320, 1321, 1322, 1323, 1324, 1325, 1326, 1327, 1328, 1329, 1330, 1331, 1332, 1333, 1334, 1335, 1336, 1337, 1338, 1339, 1340, 1341, 1342, 1343, 1344, 1345, 1346, 1347, 1348, 1349, 1350, 1351, 1352, 1353, 1354, 1355, 1356, 1357, 1358, 1359, 1360, 1361, 1362, 1363, 1364, 1365, 1366, 1367, 1368, 1369, 1370, 1371, 1372, 1373, 1374, 1375, 1376, 1377, 1378, 1379, 1380, 1381, 1382, 1383, 1384, 1385, 1386, 1387, 1388, 1389, 1390, 1391, 1392, 1393, 1394, 1395, 1396, 1397, 1398, 1399, 1400, 1401, 1402]}, '电视剧9 EP12': {'count': 1, 'idx': [1907]}}\n"
     ]
    }
   ],
   "source": [
    "juji = {}\n",
    "for i in notfound:\n",
    "    row = df.iloc[i]\n",
    "    juji_ = row['音频路径'].split('/')[2]\n",
    "    if juji_ not in juji:\n",
    "        juji[juji_] = {\n",
    "            'count': 0,\n",
    "            'idx': []\n",
    "        }\n",
    "    juji[juji_]['count'] += 1\n",
    "    juji[juji_]['idx'].append(i)\n",
    "\n",
    "print(juji)"
   ]
  },
  {
   "cell_type": "code",
   "execution_count": 54,
   "metadata": {},
   "outputs": [
    {
     "name": "stdout",
     "output_type": "stream",
     "text": [
      "他说路上发生了点剐蹭\n",
      "泰语\n",
      "เขาบอกระหว่างทางมีรถเฉี่ยวนิดหน่อย\n",
      "/alg_2025_audios_final/电视剧6 EP11/电视剧6 EP11_00_24_14,759_00_24_16,679.wav\n"
     ]
    }
   ],
   "source": [
    "i = 909\n",
    "# print(df.iloc[i])\n",
    "print(df.iloc[i]['中文'])\n",
    "print(df.iloc[i]['语言'])\n",
    "print(df.iloc[i]['文本'])\n",
    "print(df.iloc[i]['音频路径'])"
   ]
  }
 ],
 "metadata": {
  "kernelspec": {
   "display_name": "lz",
   "language": "python",
   "name": "python3"
  },
  "language_info": {
   "codemirror_mode": {
    "name": "ipython",
    "version": 3
   },
   "file_extension": ".py",
   "mimetype": "text/x-python",
   "name": "python",
   "nbconvert_exporter": "python",
   "pygments_lexer": "ipython3",
   "version": "3.11.11"
  }
 },
 "nbformat": 4,
 "nbformat_minor": 2
}
