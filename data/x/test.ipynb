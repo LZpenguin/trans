{
 "cells": [
  {
   "cell_type": "code",
   "execution_count": null,
   "metadata": {},
   "outputs": [
    {
     "name": "stderr",
     "output_type": "stream",
     "text": [
      "/home/zbtrs/miniconda3/envs/fi/lib/python3.10/site-packages/tqdm/auto.py:21: TqdmWarning: IProgress not found. Please update jupyter and ipywidgets. See https://ipywidgets.readthedocs.io/en/stable/user_install.html\n",
      "  from .autonotebook import tqdm as notebook_tqdm\n",
      "Generating train split: 219125 examples [00:00, 1265320.40 examples/s]\n"
     ]
    },
    {
     "data": {
      "text/plain": [
       "Dataset({\n",
       "    features: ['电视剧', '集数', '中文时间戳', '英语时间戳', '泰语时间戳', '马来语时间戳', '中文', '英语', '泰语', '马来语'],\n",
       "    num_rows: 219125\n",
       "})"
      ]
     },
     "execution_count": 1,
     "metadata": {},
     "output_type": "execute_result"
    }
   ],
   "source": [
    "# 加载parquet \n",
    "from datasets import load_dataset\n",
    "\n",
    "data = load_dataset(\"parquet\", data_files=\"x.parquet\")['train']\n",
    "\n",
    "data"
   ]
  },
  {
   "cell_type": "code",
   "execution_count": 43,
   "metadata": {},
   "outputs": [
    {
     "data": {
      "text/plain": [
       "{'电视剧': '电视剧2',\n",
       " '集数': 'EP19',\n",
       " '中文时间戳': '00:08:49,160 --> 00:08:50,360',\n",
       " '英语时间戳': '00:08:46,990 --> 00:08:48,200',\n",
       " '泰语时间戳': '00:08:49,160 --> 00:08:50,360',\n",
       " '马来语时间戳': '00:08:49,160 --> 00:08:50,360',\n",
       " '中文': '也撤了吧',\n",
       " '英语': 'every time',\n",
       " '泰语': 'ถอนมันออกไปด้วย',\n",
       " '马来语': 'bawa bersama dalam perjalanan.'}"
      ]
     },
     "execution_count": 43,
     "metadata": {},
     "output_type": "execute_result"
    }
   ],
   "source": [
    "data[19449]"
   ]
  }
 ],
 "metadata": {
  "kernelspec": {
   "display_name": "fi",
   "language": "python",
   "name": "python3"
  },
  "language_info": {
   "codemirror_mode": {
    "name": "ipython",
    "version": 3
   },
   "file_extension": ".py",
   "mimetype": "text/x-python",
   "name": "python",
   "nbconvert_exporter": "python",
   "pygments_lexer": "ipython3",
   "version": "3.10.16"
  }
 },
 "nbformat": 4,
 "nbformat_minor": 2
}
