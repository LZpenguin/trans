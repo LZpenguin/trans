{
 "cells": [
  {
   "cell_type": "code",
   "execution_count": 50,
   "metadata": {},
   "outputs": [],
   "source": [
    "from transformers import AutoTokenizer\n",
    "import pandas as pd\n",
    "from tqdm import tqdm\n",
    "\n",
    "tokenizer = AutoTokenizer.from_pretrained(\"/home/zbtrs/lz/trans/models/GemmaX2-28-2B-v0.1\")"
   ]
  },
  {
   "cell_type": "code",
   "execution_count": 39,
   "metadata": {},
   "outputs": [],
   "source": [
    "df = pd.read_csv('/home/zbtrs/lz/trans/data/text_data/train.csv', encoding='utf-8')\n",
    "\n",
    "df_eval = pd.read_csv('/home/zbtrs/lz/trans/data/text_data/dev.csv', encoding='utf-8')\n",
    "\n",
    "lang_map = {\n",
    "    \"马来语\": \"malay\",\n",
    "    \"泰语\": \"thai\",\n",
    "    \"英语\": \"english\"\n",
    "}"
   ]
  },
  {
   "cell_type": "code",
   "execution_count": null,
   "metadata": {},
   "outputs": [],
   "source": [
    "# 统计不同语言的比例\n",
    "print(df.groupby('语言').size())\n",
    "print(df_eval.groupby('语言').size())"
   ]
  },
  {
   "cell_type": "code",
   "execution_count": null,
   "metadata": {},
   "outputs": [],
   "source": [
    "# 统计所有数据的编码长度\n",
    "dft = df\n",
    "lengths = []\n",
    "for idx in tqdm(range(len(dft))):\n",
    "    text = f\"Translate this from Chinese to {lang_map[dft.iloc[idx]['语言']]}:\\nChinese: {dft.iloc[idx]['中文']}\\n{lang_map[dft.iloc[idx]['语言']]}: {dft.iloc[idx]['文本']}<eos>\"\n",
    "    length = tokenizer(text, return_tensors=\"pt\")['input_ids'].shape[1]\n",
    "    lengths.append(length)\n",
    "\n",
    "# 打印统计信息\n",
    "print(\"编码长度统计：\")\n",
    "print(f\"最小长度：{min(lengths)}\")\n",
    "print(f\"最大长度：{max(lengths)}\")\n",
    "print(f\"平均长度：{sum(lengths)/len(lengths):.2f}\")\n",
    "print(f\"98%分位数长度：{sorted(lengths)[int(len(lengths)*0.98)]}\")"
   ]
  },
  {
   "cell_type": "code",
   "execution_count": null,
   "metadata": {},
   "outputs": [],
   "source": [
    "# 统计所有数据的编码长度\n",
    "dft = df_eval\n",
    "lengths = []\n",
    "for idx in tqdm(range(len(dft))):\n",
    "    text = f\"Translate this from Chinese to {lang_map[dft.iloc[idx]['语言']]}:\\nChinese: {dft.iloc[idx]['中文']}\\n{lang_map[dft.iloc[idx]['语言']]}: {dft.iloc[idx]['文本']}<eos>\"\n",
    "    length = tokenizer(text, return_tensors=\"pt\")['input_ids'].shape[1]\n",
    "    lengths.append(length)\n",
    "\n",
    "# 打印统计信息\n",
    "print(\"编码长度统计：\")\n",
    "print(f\"最小长度：{min(lengths)}\")\n",
    "print(f\"最大长度：{max(lengths)}\")\n",
    "print(f\"平均长度：{sum(lengths)/len(lengths):.2f}\")\n",
    "print(f\"98%分位数长度：{sorted(lengths)[int(len(lengths)*0.98)]}\")"
   ]
  },
  {
   "cell_type": "code",
   "execution_count": null,
   "metadata": {},
   "outputs": [],
   "source": [
    "from datasets import load_dataset\n",
    "\n",
    "data1 = load_dataset(\"parquet\", data_files=\"/home/zbtrs/lz/trans/v2/train/data/opus-100/en-zh/train-00000-of-00001.parquet\")['train']\n",
    "data2 = load_dataset(\"parquet\", data_files=\"/home/zbtrs/lz/trans/v2/train/data/opus-100/en-ms/train-00000-of-00001.parquet\")['train']\n",
    "data3 = load_dataset(\"parquet\", data_files=\"/home/zbtrs/lz/trans/v2/train/data/opus-100/en-th/train-00000-of-00001.parquet\")['train']"
   ]
  },
  {
   "cell_type": "code",
   "execution_count": 1,
   "metadata": {},
   "outputs": [
    {
     "name": "stderr",
     "output_type": "stream",
     "text": [
      "/home/zbtrs/miniconda3/envs/fi/lib/python3.10/site-packages/tqdm/auto.py:21: TqdmWarning: IProgress not found. Please update jupyter and ipywidgets. See https://ipywidgets.readthedocs.io/en/stable/user_install.html\n",
      "  from .autonotebook import tqdm as notebook_tqdm\n"
     ]
    },
    {
     "name": "stdout",
     "output_type": "stream",
     "text": [
      "未发现缓存，处理数据并创建缓存: /home/zbtrs/lz/trans/v2/data_cache/03122b6b21477a84c80635d5b692ba09.cache\n"
     ]
    },
    {
     "name": "stderr",
     "output_type": "stream",
     "text": [
      "处理预训练数据: 100%|██████████| 2000/2000 [00:00<00:00, 18877.95 examples/s]\n",
      "展平数据: 100%|██████████| 2000/2000 [00:00<00:00, 24128.56it/s]\n"
     ]
    }
   ],
   "source": [
    "from dataset import TranslationDataset\n",
    "\n",
    "dataset = TranslationDataset(data_type=\"pt\", double=True, cache_dir=\"/home/zbtrs/lz/trans/v2/data_cache\")\n",
    "data = dataset.load_data(\"/home/zbtrs/lz/trans/v2/train/data/opus-100/en-ms/test-00000-of-00001.parquet\")"
   ]
  },
  {
   "cell_type": "code",
   "execution_count": 2,
   "metadata": {},
   "outputs": [
    {
     "name": "stdout",
     "output_type": "stream",
     "text": [
      "Translate this from English to Malay:\n",
      "English: It was so beautiful here.\n",
      "Malay: Dulu di sini sangat indah.<eos>\n"
     ]
    }
   ],
   "source": [
    "print(data[1136]['prompt'])"
   ]
  },
  {
   "cell_type": "code",
   "execution_count": null,
   "metadata": {},
   "outputs": [],
   "source": [
    "from datasets import load_dataset\n",
    "\n",
    "data = load_dataset(\"parquet\", data_files=\"/home/zbtrs/lz/trans/v2/train/data/opus-100/en-ms/test-00000-of-00001.parquet\")['train']\n",
    "\n",
    "data[1]"
   ]
  }
 ],
 "metadata": {
  "kernelspec": {
   "display_name": "fi",
   "language": "python",
   "name": "python3"
  },
  "language_info": {
   "codemirror_mode": {
    "name": "ipython",
    "version": 3
   },
   "file_extension": ".py",
   "mimetype": "text/x-python",
   "name": "python",
   "nbconvert_exporter": "python",
   "pygments_lexer": "ipython3",
   "version": "3.10.16"
  }
 },
 "nbformat": 4,
 "nbformat_minor": 2
}
